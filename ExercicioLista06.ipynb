{
 "cells": [
  {
   "cell_type": "markdown",
   "metadata": {},
   "source": [
    "###  Nome: Ermerson Rafael da Silva \n",
    "###  RA.:     816122707"
   ]
  },
  {
   "cell_type": "markdown",
   "metadata": {},
   "source": [
    "### 1-) Defina a função soma_nat que recebe como argumento um número natural  n e devolve a soma de todos os números naturais até  n."
   ]
  },
  {
   "cell_type": "code",
   "execution_count": 2,
   "metadata": {
    "collapsed": true
   },
   "outputs": [],
   "source": [
    "#function\n",
    "def soma_nat(n):\n",
    "    soma = 0\n",
    "    while(n > 0):\n",
    "        soma = soma + n\n",
    "        n = n - int(1)\n",
    "    return soma\n",
    "\n",
    "   \n"
   ]
  },
  {
   "cell_type": "markdown",
   "metadata": {},
   "source": [
    "### 2-) Defina a função prod_lista que recebe como argumento uma lista de inteiros e devolve o produto dos seus elementos."
   ]
  },
  {
   "cell_type": "code",
   "execution_count": 3,
   "metadata": {
    "collapsed": true,
    "scrolled": true
   },
   "outputs": [],
   "source": [
    "#function\n",
    "def prod_lista(lista):\n",
    "    soma = 1\n",
    "    for i in lista:\n",
    "        soma = soma * i\n",
    "    return soma\n",
    "\n",
    "  \n",
    "    \n"
   ]
  },
  {
   "cell_type": "markdown",
   "metadata": {},
   "source": [
    "### 3-) Defina a função contem_parQ que recebe como argumento uma lista de números inteiros  w e devolve True se w contém um número par e False em caso contrário."
   ]
  },
  {
   "cell_type": "code",
   "execution_count": 4,
   "metadata": {
    "collapsed": true
   },
   "outputs": [],
   "source": [
    "#function\n",
    "def parQ(lista):\n",
    "    if len(lista)%2==0:\n",
    "        return True\n",
    "    else:\n",
    "        return False\n"
   ]
  },
  {
   "cell_type": "markdown",
   "metadata": {},
   "source": [
    "### 4-) Defina a função todos_imparesQ que recebe como argumento uma lista de números inteiros w e devolve True se  w contém apenas números ímpares e False em caso contrário."
   ]
  },
  {
   "cell_type": "code",
   "execution_count": 5,
   "metadata": {
    "collapsed": true
   },
   "outputs": [],
   "source": [
    "#Function\n",
    "def todos_imparesQ(lista):\n",
    "    retorno = False\n",
    "    for i in lista:\n",
    "        \n",
    "        if i%2 > 0:\n",
    "            retorno = True\n",
    "        else:\n",
    "            retorno = False\n",
    "            break\n",
    "    return retorno\n"
   ]
  },
  {
   "cell_type": "markdown",
   "metadata": {},
   "source": [
    "### 5-) Defina a função inverteLista que recebe como argumento uma lista  w e devolve a mesma lista mas invertida."
   ]
  },
  {
   "cell_type": "code",
   "execution_count": 14,
   "metadata": {
    "collapsed": true
   },
   "outputs": [],
   "source": [
    "#function\n",
    "def inverteLista(w):\n",
    "    w = w[::-1]\n",
    "    return w\n",
    "\n"
   ]
  },
  {
   "cell_type": "code",
   "execution_count": 18,
   "metadata": {},
   "outputs": [
    {
     "name": "stdout",
     "output_type": "stream",
     "text": [
      "Exercicio #1 15\n",
      "Exercicio #2 120\n",
      "Exercicio #3 True\n",
      "Exercicio #3 True\n",
      "Exercicio #3 False\n",
      "Exercicio #4 True\n",
      "Exercicio #4 False\n",
      "Exercicio #4 False\n",
      "Exercicio #5 [6, 4, 2]\n"
     ]
    }
   ],
   "source": [
    "#1 exercicio\n",
    "print (\"Exercicio #1\" , soma_nat(5))\n",
    "\n",
    "#2 exercicio\n",
    "print ('Exercicio #2' , prod_lista([1,2,3,4,5]))\n",
    "\n",
    "#3 exercicio\n",
    "print ('Exercicio #3' , parQ([2,3,1,2,3,4]))\n",
    "print ('Exercicio #3' , parQ([1,3,5,7]))\n",
    "print ('Exercicio #3' , parQ([1,3,5,7,9]))\n",
    "\n",
    "#4 exercicio\n",
    "print ('Exercicio #4' , todos_imparesQ([1,3,5,7]))\n",
    "print ('Exercicio #4' , todos_imparesQ([]))\n",
    "print ('Exercicio #4' , todos_imparesQ([1,2,3,4,5]))\n",
    "\n",
    "#5 exercicio\n",
    "print ('Exercicio #5' , inverteLista([2,4,6]))\n",
    "\n"
   ]
  },
  {
   "cell_type": "code",
   "execution_count": null,
   "metadata": {
    "collapsed": true
   },
   "outputs": [],
   "source": []
  }
 ],
 "metadata": {
  "kernelspec": {
   "display_name": "Python 3",
   "language": "python",
   "name": "python3"
  },
  "language_info": {
   "codemirror_mode": {
    "name": "ipython",
    "version": 3
   },
   "file_extension": ".py",
   "mimetype": "text/x-python",
   "name": "python",
   "nbconvert_exporter": "python",
   "pygments_lexer": "ipython3",
   "version": "3.6.2"
  }
 },
 "nbformat": 4,
 "nbformat_minor": 2
}
