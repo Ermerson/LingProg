{
 "cells": [
  {
   "cell_type": "markdown",
   "metadata": {},
   "source": [
    "### Nome: Ermerson Rafael RA.: 816122707\n"
   ]
  },
  {
   "cell_type": "markdown",
   "metadata": {},
   "source": [
    " 4 - Defina a função prod_lista que recebe como argumento uma lista de inteiros e devolve o produto dos seus elementos.\n",
    " \n",
    " "
   ]
  },
  {
   "cell_type": "code",
   "execution_count": 48,
   "metadata": {
    "collapsed": true
   },
   "outputs": [],
   "source": [
    "def prod_lista(lst):\n",
    "    return lst[len(lst) - 1] * prod_lista(lst[:-1]) if len(lst) > 0 else 1"
   ]
  },
  {
   "cell_type": "code",
   "execution_count": 50,
   "metadata": {},
   "outputs": [
    {
     "name": "stdout",
     "output_type": "stream",
     "text": [
      "Testando a função:\n",
      "Valores: 1,2,3,5,7,10 ->  0  resultado:  0\n",
      "Valores: 1,2,3,5,7,10 ->  1  resultado:  2100\n",
      "Valores: 1,2,3,5,7,10 ->  2  resultado:  4200\n",
      "Valores: 1,2,3,5,7,10 ->  3  resultado:  6300\n",
      "Valores: 1,2,3,5,7,10 ->  4  resultado:  8400\n"
     ]
    }
   ],
   "source": [
    "print('Testando a função:')\n",
    "for teste in range(5):\n",
    "    lst = [7,5,3,1,2,10,teste]\n",
    "    print('Valores: 1,2,3,5,7,10 -> ' , teste , ' resultado: ', prod_lista(lst))"
   ]
  },
  {
   "cell_type": "markdown",
   "metadata": {},
   "source": [
    "7 - Defina a função pertenceQ que recebe como argumentos uma lista de números inteiros w e um número inteiro n e devolve True se n ocorre em w e False em caso contrário."
   ]
  },
  {
   "cell_type": "code",
   "execution_count": 42,
   "metadata": {
    "collapsed": true
   },
   "outputs": [],
   "source": [
    "def pertenceQ(w,n):\n",
    "    return True if len(w)> 0 and (n in w or pertenceQ(w[:-1],n)) else False"
   ]
  },
  {
   "cell_type": "code",
   "execution_count": 32,
   "metadata": {},
   "outputs": [
    {
     "name": "stdout",
     "output_type": "stream",
     "text": [
      "Executando a Função:\n",
      "Lista:  [0, 1, 2, 3, 5, 8, 13]\n",
      "0  Existe\n",
      "1  Existe\n",
      "2  Existe\n",
      "3  Existe\n",
      "4  Não Existe\n",
      "5  Existe\n",
      "6  Não Existe\n",
      "7  Não Existe\n"
     ]
    }
   ],
   "source": [
    "print('Executando a Função:')\n",
    "testes = [0,1,2,3,5,8,13]\n",
    "print ('Lista: ' , testes)\n",
    "for teste in range(8):\n",
    "    if(pertenceQ(testes,teste) == False):\n",
    "        print(teste, ' Não Existe')\n",
    "    else:\n",
    "        print(teste, ' Existe')\n",
    "        \n",
    "\n",
    "assert(pertenceQ([1,2,3],1)==True)\n",
    "assert(pertenceQ([1,2,3],2)==True)\n",
    "assert(pertenceQ([1,2,3],3)==True)\n",
    "assert(pertenceQ([1,2,3],4)==False)\n",
    "assert(pertenceQ([1,2,3],5)==False)"
   ]
  },
  {
   "cell_type": "markdown",
   "metadata": {},
   "source": [
    "10 Defina a função inverteLista que recebe como argumento uma lista w e devolve a mesma lista mas invertida."
   ]
  },
  {
   "cell_type": "code",
   "execution_count": 4,
   "metadata": {},
   "outputs": [
    {
     "name": "stdout",
     "output_type": "stream",
     "text": [
      "OBS: Insira um valor Valido\n",
      "Digite um numero: 4\n",
      "Digite um numero: 5\n",
      "Digite um numero: 6\n",
      "Digite um numero: 8\n",
      "Digite um numero: 6\n",
      "Digite um numero: \n",
      "Lista = [4, 5, 6, 8, 6]\n",
      "Inversão da Lista = [6, 8, 6, 5, 4]\n"
     ]
    }
   ],
   "source": [
    "def gera_lst():\n",
    "    lst = []\n",
    "    n_lst = []\n",
    "    print('OBS: Insira um valor Valido')\n",
    "    while True:\n",
    "        item = input('Digite um numero: ')\n",
    "        try:\n",
    "            lst.append(int(item))\n",
    "        except (ValueError, Exception):\n",
    "            print(f'Lista = {lst}')\n",
    "            n_lst = inverte(lst)\n",
    "            print(f'Inversão da Lista = {n_lst}')\n",
    "            break\n",
    "\n",
    "invertido = lambda lst: (invertido(lst[1:]) + lst[:1] if lst else [])\n",
    "    \n",
    "def f_main():\n",
    "    return gera_lst()\n",
    "\n",
    "f_main()"
   ]
  },
  {
   "cell_type": "markdown",
   "metadata": {},
   "source": [
    "1 Defina a função soma_nat que recebe como argumento um número natural n e devolve a soma de todos os números naturais até n."
   ]
  },
  {
   "cell_type": "code",
   "execution_count": 5,
   "metadata": {},
   "outputs": [
    {
     "name": "stdout",
     "output_type": "stream",
     "text": [
      "Insira um número natural: 5\n",
      "A soma dos números naturais anteriores é: 15\n"
     ]
    }
   ],
   "source": [
    "def get_number():\n",
    "    while True:\n",
    "        numero = int(input('Insira um número natural: '))\n",
    "        if numero < 0:\n",
    "            print('Digite um número natural apenas!')\n",
    "            continue\n",
    "        else:\n",
    "            return numero\n",
    "\n",
    "def soma_nat(n):\n",
    "    return 0 if n==0 else n+soma_nat(n-1)\n",
    "\n",
    "def f_main():\n",
    "    return soma_nat(get_number())\n",
    "\n",
    "print('A soma dos números naturais anteriores é: %d' %(f_main()))"
   ]
  },
  {
   "cell_type": "markdown",
   "metadata": {},
   "source": [
    "5 Defina a função contem_parQ que recebe como argumento uma lista de números inteiros w e devolve True se w contém um número par e False em caso contrário."
   ]
  },
  {
   "cell_type": "code",
   "execution_count": 8,
   "metadata": {},
   "outputs": [
    {
     "name": "stdout",
     "output_type": "stream",
     "text": [
      "OBS: Você será solicitado a inserir elementos na lista até inserir um elemento inválido\n",
      "Insira um número inteiro na lista: 5\n",
      "Insira um número inteiro na lista: 6\n",
      "Insira um número inteiro na lista: 4\n",
      "Insira um número inteiro na lista: 8\n",
      "Insira um número inteiro na lista: \n",
      "True\n"
     ]
    }
   ],
   "source": [
    "def gera_lst():\n",
    "    lst = []\n",
    "    print('OBS: Você será solicitado a inserir elementos na lista até inserir um elemento inválido')\n",
    "    while True:\n",
    "        item = input('Insira um número inteiro na lista: ')\n",
    "        try:\n",
    "            lst.append(int(item))\n",
    "        except (ValueError, Exception):\n",
    "            if len(lst) > 0:\n",
    "                result = par(lst)\n",
    "                print(result)\n",
    "                break\n",
    "            else:\n",
    "                print('A lista está vazia!')\n",
    "                \n",
    "def par(lst):\n",
    "    return True if len(lst)> 0 and (lst[len(lst)-1] % 2 == 0 or par(lst[:-1])) else False\n",
    "    \n",
    "def f_main():\n",
    "    return gera_lst()\n",
    "\n",
    "f_main()"
   ]
  },
  {
   "cell_type": "code",
   "execution_count": null,
   "metadata": {
    "collapsed": true
   },
   "outputs": [],
   "source": []
  }
 ],
 "metadata": {
  "kernelspec": {
   "display_name": "Python 3",
   "language": "python",
   "name": "python3"
  },
  "language_info": {
   "codemirror_mode": {
    "name": "ipython",
    "version": 3
   },
   "file_extension": ".py",
   "mimetype": "text/x-python",
   "name": "python",
   "nbconvert_exporter": "python",
   "pygments_lexer": "ipython3",
   "version": "3.6.2"
  }
 },
 "nbformat": 4,
 "nbformat_minor": 2
}
