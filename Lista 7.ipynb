{
 "cells": [
  {
   "cell_type": "markdown",
   "metadata": {},
   "source": [
    "### Nome: Ermerson Rafael RA.: 816122707 "
   ]
  },
  {
   "cell_type": "markdown",
   "metadata": {},
   "source": [
    "4 - Defina a função prod_lista que recebe como argumento uma lista de inteiros e devolve o produto dos seus elementos."
   ]
  },
  {
   "cell_type": "code",
   "execution_count": 1,
   "metadata": {
    "collapsed": true
   },
   "outputs": [],
   "source": [
    "prod_lista = lambda lst: lst[len(lst) - 1] * prod_lista(lst[:-1]) if len(lst) > 0 else 1"
   ]
  },
  {
   "cell_type": "code",
   "execution_count": 4,
   "metadata": {},
   "outputs": [],
   "source": [
    "#Execução e apresentação dos resultados\n",
    "assert(prod_lista([1,2,3,4,5,6]) == 720)"
   ]
  },
  {
   "cell_type": "markdown",
   "metadata": {},
   "source": [
    "7 - Defina a função pertenceQ que recebe como argumentos uma lista de números inteiros w e um número inteiro n e devolve True se n ocorre em w e False em caso contrário."
   ]
  },
  {
   "cell_type": "code",
   "execution_count": 6,
   "metadata": {
    "collapsed": true
   },
   "outputs": [],
   "source": [
    "pertenceQ = lambda w,n: True if len(w)> 0 and (n in w or pertenceQ(w[:-1],n)) else False\n",
    "\n",
    "assert(pertenceQ([1,2,3],1)==True)\n",
    "assert(pertenceQ([1,2,3],2)==True)\n",
    "assert(pertenceQ([1,2,3],3)==True)\n",
    "assert(pertenceQ([1,2,3],4)==False)\n",
    "assert(pertenceQ([1,2,3],5)==False)"
   ]
  },
  {
   "cell_type": "markdown",
   "metadata": {},
   "source": [
    "10 Defina a função inverteLista que recebe como argumento uma lista w e devolve a mesma lista mas invertida."
   ]
  },
  {
   "cell_type": "code",
   "execution_count": 2,
   "metadata": {},
   "outputs": [
    {
     "name": "stdout",
     "output_type": "stream",
     "text": [
      "Digite um numero Valido\n",
      "Digite um numero: 5\n",
      "Digite um numero: 4\n",
      "Digite um numero: 5\n",
      "Digite um numero: 5\n",
      "Digite um numero: \n",
      "Lista = [5, 4, 5, 5]\n",
      "Lista Invertida = [5, 5, 4, 5]\n"
     ]
    }
   ],
   "source": [
    "build = lambda: int(input('Digite um numero: '))\n",
    "inversao = lambda lst: (inversao(lst[1:]) + lst[:1] if lst else [])\n",
    "main = lambda funcao: funcao()\n",
    "\n",
    "def gera_lst():\n",
    "    lst = []\n",
    "    n_lst = []\n",
    "    print('Digite um numero Valido')\n",
    "    while True:\n",
    "        try:\n",
    "            lst.append(build())\n",
    "        except (ValueError, Exception):\n",
    "            print(f'Lista = {lst}')\n",
    "            n_lst = inversao(lst)\n",
    "            print(f'Lista Invertida = {n_lst}')\n",
    "            break\n",
    "main(gera_lst)"
   ]
  },
  {
   "cell_type": "code",
   "execution_count": null,
   "metadata": {
    "collapsed": true
   },
   "outputs": [],
   "source": []
  },
  {
   "cell_type": "markdown",
   "metadata": {},
   "source": [
    "1 Defina a função soma_nat que recebe como argumento um número natural n e devolve a soma de todos os números naturais até n."
   ]
  },
  {
   "cell_type": "code",
   "execution_count": 3,
   "metadata": {},
   "outputs": [
    {
     "name": "stdout",
     "output_type": "stream",
     "text": [
      "Insira um número natural: 5\n",
      "A soma dos números naturais anteriores é: 15\n"
     ]
    }
   ],
   "source": [
    "get_number = lambda: int(input('Insira um número natural: '))  \n",
    "soma_nat = lambda n:0 if n == 0 else print('Digite um número natural apenas!') if n<0 else n+soma_nat(n-1)\n",
    "(lambda m:print(f'A soma dos números naturais anteriores é: {m}') if m != None \n",
    " else print('Número digitado não é natural'))(soma_nat(get_number()))"
   ]
  },
  {
   "cell_type": "markdown",
   "metadata": {},
   "source": [
    "5 Defina a função contem_parQ que recebe como argumento uma lista de números inteiros w e devolve True se w contém um número par e False em caso contrário."
   ]
  },
  {
   "cell_type": "code",
   "execution_count": 7,
   "metadata": {},
   "outputs": [
    {
     "name": "stdout",
     "output_type": "stream",
     "text": [
      "OBS: Você será solicitado a inserir elementos na lista até inserir um elemento inválido\n",
      "Insira um número inteiro na lista: 4\n",
      "Insira um número inteiro na lista: 5\n",
      "Insira um número inteiro na lista: 6\n",
      "Insira um número inteiro na lista: \n",
      "True\n"
     ]
    }
   ],
   "source": [
    "build = lambda: int(input('Insira um número inteiro na lista: '))\n",
    "par = lambda lst: True if len(lst)> 0 and (lst[len(lst)-1] % 2 == 0 or par(lst[:-1])) else False\n",
    "main = lambda funcao: funcao()\n",
    "\n",
    "def gera_lst():\n",
    "    lst = []\n",
    "    print('OBS: Você será solicitado a inserir elementos na lista até inserir um elemento inválido')\n",
    "    while True:\n",
    "        try:\n",
    "            lst.append(build())\n",
    "        except (ValueError, Exception):\n",
    "            if len(lst) > 0:\n",
    "                result = par(lst)\n",
    "                print(result)\n",
    "                break\n",
    "            else:\n",
    "                print('A lista está vazia!')\n",
    "    \n",
    "main(gera_lst)"
   ]
  },
  {
   "cell_type": "code",
   "execution_count": null,
   "metadata": {
    "collapsed": true
   },
   "outputs": [],
   "source": []
  }
 ],
 "metadata": {
  "kernelspec": {
   "display_name": "Python 3",
   "language": "python",
   "name": "python3"
  },
  "language_info": {
   "codemirror_mode": {
    "name": "ipython",
    "version": 3
   },
   "file_extension": ".py",
   "mimetype": "text/x-python",
   "name": "python",
   "nbconvert_exporter": "python",
   "pygments_lexer": "ipython3",
   "version": "3.6.2"
  }
 },
 "nbformat": 4,
 "nbformat_minor": 2
}
