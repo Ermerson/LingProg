{
 "cells": [
  {
   "cell_type": "markdown",
   "metadata": {},
   "source": [
    "###  Nome: Ermerson Rafael da Silva \n",
    "###  RA.:     816122707"
   ]
  },
  {
   "cell_type": "markdown",
   "metadata": {},
   "source": [
    "### 1-) Defina a função soma_nat que recebe como argumento um número natural  n e devolve a soma de todos os números naturais até  n."
   ]
  },
  {
   "cell_type": "code",
   "execution_count": 1,
   "metadata": {
    "collapsed": true
   },
   "outputs": [],
   "source": [
    "#Maybe monad\n",
    "def soma_nat_maybe(end):\n",
    "    return ((end)/2) * (end+1)\n",
    "\n",
    "class Just:\n",
    "    \n",
    "    def __init__(self,end):\n",
    "        \n",
    "        self.end = end\n",
    "    def bind(self,fnc):\n",
    "        try:\n",
    "            return Just(fnc(self.end))\n",
    "        except:\n",
    "            return Nothing()\n",
    "        \n",
    "    def __repr__(self):\n",
    "        \n",
    "        return str(self.end)\n",
    "class Nothing:\n",
    "    \n",
    "    def bind(self,fnc):\n",
    "        \n",
    "        return Nothing()\n",
    "    \n",
    "    def __repr__(self):\n",
    "        \n",
    "        return 'Nothing'\n",
    "    \n"
   ]
  },
  {
   "cell_type": "markdown",
   "metadata": {},
   "source": [
    "### 2-) Defina a função prod_lista que recebe como argumento uma lista de inteiros e devolve o produto dos seus elementos."
   ]
  },
  {
   "cell_type": "code",
   "execution_count": 2,
   "metadata": {
    "collapsed": true,
    "scrolled": true
   },
   "outputs": [],
   "source": [
    "#Maybe monad\n",
    "def soma_list_maybe(x):\n",
    "    return reduce(operator.mul, x, 1)\n",
    "\n",
    "class Just:\n",
    "    \n",
    "    def __init__(self,x):\n",
    "        \n",
    "        self.x = x\n",
    "    def bind(self,fnc):\n",
    "        try:\n",
    "            return Just(fnc(self.x))\n",
    "        except:\n",
    "            return Nothing()\n",
    "        \n",
    "    def __repr__(self):\n",
    "        \n",
    "        return str(self.x)\n",
    "class Nothing:\n",
    "    \n",
    "    def bind(self,fnc):\n",
    "        \n",
    "        return Nothing()\n",
    "    \n",
    "    def __repr__(self):\n",
    "        \n",
    "        return 'Nothing'\n",
    "    \n",
    "    \n"
   ]
  },
  {
   "cell_type": "markdown",
   "metadata": {},
   "source": [
    "### 3-) Defina a função contem_parQ que recebe como argumento uma lista de números inteiros  w e devolve True se w contém um número par e False em caso contrário."
   ]
  },
  {
   "cell_type": "code",
   "execution_count": 3,
   "metadata": {
    "collapsed": true
   },
   "outputs": [],
   "source": [
    "#Maybe monad\n",
    "def parQ_maybe(lista):\n",
    "    return True if (len(lista) % 2 == 0) else False\n",
    "\n",
    "class Just:\n",
    "    \n",
    "    def __init__(self,lista):\n",
    "        \n",
    "        self.lista = lista\n",
    "    def bind(self,fnc):\n",
    "        try:\n",
    "            return Just(fnc(self.lista))\n",
    "        except:\n",
    "            return Nothing()\n",
    "        \n",
    "    def __repr__(self):\n",
    "        \n",
    "        return str(self.lista)\n",
    "class Nothing:\n",
    "    \n",
    "    def bind(self,fnc):\n",
    "        \n",
    "        return Nothing()\n",
    "    \n",
    "    def __repr__(self):\n",
    "        \n",
    "        return 'Nothing'"
   ]
  },
  {
   "cell_type": "markdown",
   "metadata": {},
   "source": [
    "### 4-) Defina a função todos_imparesQ que recebe como argumento uma lista de números inteiros w e devolve True se  w contém apenas números ímpares e False em caso contrário."
   ]
  },
  {
   "cell_type": "code",
   "execution_count": 4,
   "metadata": {
    "collapsed": true
   },
   "outputs": [],
   "source": [
    "#Maybe monad\n",
    "def todos_imparesQ_maybe(lista):\n",
    "    return True if len([x for x in lista if x % 2 != 0])==len(lista) else False\n",
    "\n",
    "class Just:\n",
    "    \n",
    "    def __init__(self,lista):\n",
    "        \n",
    "        self.lista = lista\n",
    "    def bind(self,fnc):\n",
    "        try:\n",
    "            return Just(fnc(self.lista))\n",
    "        except:\n",
    "            return Nothing()\n",
    "        \n",
    "    def __repr__(self):\n",
    "        \n",
    "        return str(self.lista)\n",
    "class Nothing:\n",
    "    \n",
    "    def bind(self,fnc):\n",
    "        \n",
    "        return Nothing()\n",
    "    \n",
    "    def __repr__(self):\n",
    "        \n",
    "        return 'Nothing'"
   ]
  },
  {
   "cell_type": "markdown",
   "metadata": {},
   "source": [
    "### 5-) Defina a função inverteLista que recebe como argumento uma lista  w e devolve a mesma lista mas invertida."
   ]
  },
  {
   "cell_type": "code",
   "execution_count": 5,
   "metadata": {
    "collapsed": true
   },
   "outputs": [],
   "source": [
    "#Maybe monad\n",
    "def inverteLista_maybe(w):\n",
    "    w = w[::-1]\n",
    "    return w\n",
    "\n",
    "class Just:\n",
    "    \n",
    "    def __init__(self,w):\n",
    "        \n",
    "        self.w = w\n",
    "    def bind(self,fnc):\n",
    "        try:\n",
    "            return Just(fnc(self.w))\n",
    "        except:\n",
    "            return Nothing()\n",
    "        \n",
    "    def __repr__(self):\n",
    "        \n",
    "        return str(self.w)\n",
    "class Nothing:\n",
    "    \n",
    "    def bind(self,fnc):\n",
    "        \n",
    "        return Nothing()\n",
    "    \n",
    "    def __repr__(self):\n",
    "        \n",
    "        return 'Nothing'"
   ]
  },
  {
   "cell_type": "code",
   "execution_count": 6,
   "metadata": {},
   "outputs": [
    {
     "name": "stdout",
     "output_type": "stream",
     "text": [
      "Exercicio #1 15.0\n",
      "Exercicio #1 Nothing\n",
      "Exercicio #3 False\n",
      "Exercicio #4 True\n",
      "Exercicio #5 [5, 3, 1]\n"
     ]
    }
   ],
   "source": [
    "#1 exercicio\n",
    "print(\"Exercicio #1\" , Just(5).bind(soma_nat_maybe))\n",
    "\n",
    "#2 exercicio\n",
    "print(\"Exercicio #1\" , Just([1,2,3,4,5]).bind(soma_list_maybe))\n",
    "\n",
    "#3 exercicio\n",
    "print(\"Exercicio #3\" , Just([1,2,3,4,5]).bind(parQ_maybe))\n",
    "\n",
    "#4 exercicio\n",
    "print(\"Exercicio #4\" , Just([1,3,5]).bind(todos_imparesQ_maybe))\n",
    "\n",
    "#5 exercicio\n",
    "print(\"Exercicio #5\" , Just([1,3,5]).bind(inverteLista_maybe))\n",
    "\n"
   ]
  },
  {
   "cell_type": "code",
   "execution_count": null,
   "metadata": {
    "collapsed": true
   },
   "outputs": [],
   "source": []
  }
 ],
 "metadata": {
  "kernelspec": {
   "display_name": "Python 3",
   "language": "python",
   "name": "python3"
  },
  "language_info": {
   "codemirror_mode": {
    "name": "ipython",
    "version": 3
   },
   "file_extension": ".py",
   "mimetype": "text/x-python",
   "name": "python",
   "nbconvert_exporter": "python",
   "pygments_lexer": "ipython3",
   "version": "3.6.2"
  }
 },
 "nbformat": 4,
 "nbformat_minor": 2
}
