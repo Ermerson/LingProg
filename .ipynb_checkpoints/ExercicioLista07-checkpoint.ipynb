{
 "cells": [
  {
   "cell_type": "markdown",
   "metadata": {},
   "source": [
    "###  Nome: Ermerson Rafael da Silva \n",
    "###  RA.:     816122707"
   ]
  },
  {
   "cell_type": "markdown",
   "metadata": {},
   "source": [
    "### 1-) Defina a função soma_nat que recebe como argumento um número natural  n e devolve a soma de todos os números naturais até  n."
   ]
  },
  {
   "cell_type": "code",
   "execution_count": 2,
   "metadata": {
    "collapsed": true
   },
   "outputs": [],
   "source": [
    "#lambda\n",
    "soma_nat_lambda = lambda end: ((end)/2) * (end+1)\n"
   ]
  },
  {
   "cell_type": "markdown",
   "metadata": {},
   "source": [
    "### 2-) Defina a função prod_lista que recebe como argumento uma lista de inteiros e devolve o produto dos seus elementos."
   ]
  },
  {
   "cell_type": "code",
   "execution_count": 3,
   "metadata": {
    "collapsed": true,
    "scrolled": true
   },
   "outputs": [],
   "source": [
    "#lambda\n",
    "import operator\n",
    "from functools import reduce\n",
    "prod_lista_lambda = lambda x: reduce(operator.mul, x, 1)"
   ]
  },
  {
   "cell_type": "markdown",
   "metadata": {},
   "source": [
    "### 3-) Defina a função contem_parQ que recebe como argumento uma lista de números inteiros  w e devolve True se w contém um número par e False em caso contrário."
   ]
  },
  {
   "cell_type": "code",
   "execution_count": 4,
   "metadata": {
    "collapsed": true
   },
   "outputs": [],
   "source": [
    "#lambda\n",
    "parQ_lambda = lambda lista: True if (len(lista) % 2 == 0) else False"
   ]
  },
  {
   "cell_type": "markdown",
   "metadata": {},
   "source": [
    "### 4-) Defina a função todos_imparesQ que recebe como argumento uma lista de números inteiros w e devolve True se  w contém apenas números ímpares e False em caso contrário."
   ]
  },
  {
   "cell_type": "code",
   "execution_count": 5,
   "metadata": {
    "collapsed": true
   },
   "outputs": [],
   "source": [
    "#lambda\n",
    "todos_imparesQ_lambda = lambda lista: True if len([x for x in lista if x % 2 != 0])==len(lista) else False"
   ]
  },
  {
   "cell_type": "markdown",
   "metadata": {},
   "source": [
    "### 5-) Defina a função inverteLista que recebe como argumento uma lista  w e devolve a mesma lista mas invertida."
   ]
  },
  {
   "cell_type": "code",
   "execution_count": 6,
   "metadata": {
    "collapsed": true
   },
   "outputs": [],
   "source": [
    "#lambda\n",
    "inverteLista_lambda = lambda w: w[::-1]"
   ]
  },
  {
   "cell_type": "code",
   "execution_count": 8,
   "metadata": {},
   "outputs": [
    {
     "name": "stdout",
     "output_type": "stream",
     "text": [
      "Exercicio #1 15.0\n",
      "Exercicio #2 120\n",
      "Exercicio #3 False\n",
      "Exercicio #4 True\n",
      "Exercicio #5 False\n"
     ]
    }
   ],
   "source": [
    "#1 exercicio\n",
    "print (\"Exercicio #1\" , soma_nat_lambda(5))\n",
    "\n",
    "#2 exercicio\n",
    "print (\"Exercicio #2\" , prod_lista_lambda([1,2,3,4,5])) \n",
    "\n",
    "#3 exercicio\n",
    "print (\"Exercicio #3\" , parQ_lambda([1,2,3,4,5]))\n",
    "\n",
    "#4 exercicio\n",
    "print (\"Exercicio #4\" , todos_imparesQ_lambda([1,3,5]))\n",
    "\n",
    "#5 exercicio\n",
    "print (\"Exercicio #5\" , todos_imparesQ_lambda([2,4,6]))\n",
    "\n"
   ]
  },
  {
   "cell_type": "code",
   "execution_count": null,
   "metadata": {
    "collapsed": true
   },
   "outputs": [],
   "source": []
  }
 ],
 "metadata": {
  "kernelspec": {
   "display_name": "Python 3",
   "language": "python",
   "name": "python3"
  },
  "language_info": {
   "codemirror_mode": {
    "name": "ipython",
    "version": 3
   },
   "file_extension": ".py",
   "mimetype": "text/x-python",
   "name": "python",
   "nbconvert_exporter": "python",
   "pygments_lexer": "ipython3",
   "version": "3.6.2"
  }
 },
 "nbformat": 4,
 "nbformat_minor": 2
}
